{
  "cells": [
    {
      "cell_type": "code",
      "execution_count": null,
      "id": "5634074c",
      "metadata": {
        "vscode": {
          "languageId": "plaintext"
        },
        "id": "5634074c"
      },
      "outputs": [],
      "source": [
        "# Chapter 2: Working with Text Data"
      ]
    },
    {
      "cell_type": "code",
      "source": [
        "import os\n",
        "import urllib.request\n",
        "\n",
        "if not os.path.exists(\"the-verdict.txt\"):\n",
        "    url = (\"https://raw.githubusercontent.com/sudeonder/building-an-LLM-from-scratch/refs/heads/main/ch02/the-verdict.txt\")\n",
        "    file_path = \"the-verdict.txt\"\n",
        "    urllib.request.urlretrieve(url, file_path)"
      ],
      "metadata": {
        "id": "PalMD_hqRCSq"
      },
      "id": "PalMD_hqRCSq",
      "execution_count": 7,
      "outputs": []
    },
    {
      "cell_type": "code",
      "source": [
        "with open('the-verdict.txt', 'r', encoding='utf-8') as f:\n",
        "  raw_text = f.read()\n",
        "print('total number of chars: ', len(raw_text))\n",
        "print(raw_text[:50])"
      ],
      "metadata": {
        "id": "OXMa-mpwRxBM",
        "outputId": "0cc612c1-6dfe-4520-f8a9-5b0f578353df",
        "colab": {
          "base_uri": "https://localhost:8080/"
        }
      },
      "id": "OXMa-mpwRxBM",
      "execution_count": 8,
      "outputs": [
        {
          "output_type": "stream",
          "name": "stdout",
          "text": [
            "total number of chars:  20479\n",
            "I HAD always thought Jack Gisburn rather a cheap g\n"
          ]
        }
      ]
    },
    {
      "cell_type": "code",
      "source": [
        "# split the text into a set of tokens\n",
        "import re\n",
        "text = \"Hello, world. This, is a test.\"\n",
        "result = re.split(r'(\\s)', text)\n",
        "print(result)"
      ],
      "metadata": {
        "id": "g_dnspRsS0mj",
        "outputId": "3c7b5ecb-0d2c-495a-fcbe-cf8f0a4d7ea1",
        "colab": {
          "base_uri": "https://localhost:8080/"
        }
      },
      "id": "g_dnspRsS0mj",
      "execution_count": 12,
      "outputs": [
        {
          "output_type": "stream",
          "name": "stdout",
          "text": [
            "['Hello,', ' ', 'world.', ' ', 'This,', ' ', 'is', ' ', 'a', ' ', 'test.']\n"
          ]
        }
      ]
    },
    {
      "cell_type": "code",
      "source": [
        "# we want punctuation chars as sepereate entries - modify regular expression splits\n",
        "result = re.split(r'([.,]|\\s)', text)\n",
        "print(result)\n",
        "# remove whitespace\n",
        "result = [item for item in result if item.strip()]\n",
        "print(result)"
      ],
      "metadata": {
        "id": "fZzVUuKOTg2F",
        "outputId": "bb0c9e67-8d51-4729-f1d2-c9834ae81d42",
        "colab": {
          "base_uri": "https://localhost:8080/"
        }
      },
      "id": "fZzVUuKOTg2F",
      "execution_count": 15,
      "outputs": [
        {
          "output_type": "stream",
          "name": "stdout",
          "text": [
            "['Hello', ',', '', ' ', 'world', '.', '', ' ', 'This', ',', '', ' ', 'is', ' ', 'a', ' ', 'test', '.', '']\n",
            "['Hello', ',', 'world', '.', 'This', ',', 'is', 'a', 'test', '.']\n"
          ]
        }
      ]
    },
    {
      "cell_type": "code",
      "source": [
        "text = \"Hello, world. Is this-- a test?\"\n",
        "result = re.split(r'([,.:;?_!\"()\\']|--|\\s)', text)\n",
        "result = [item.strip() for item in result if item.strip()]\n",
        "print(result)"
      ],
      "metadata": {
        "id": "tAEeIybRU_4B",
        "outputId": "d42b525c-9c4d-40ba-e65d-d5ea84982b0e",
        "colab": {
          "base_uri": "https://localhost:8080/"
        }
      },
      "id": "tAEeIybRU_4B",
      "execution_count": 16,
      "outputs": [
        {
          "output_type": "stream",
          "name": "stdout",
          "text": [
            "['Hello', ',', 'world', '.', 'Is', 'this', '--', 'a', 'test', '?']\n"
          ]
        }
      ]
    },
    {
      "cell_type": "code",
      "source": [
        "preprocessed = re.split(r'([,.:;?_!\"()\\']|--|\\s)', raw_text)\n",
        "preprocessed = [item.strip() for item in preprocessed if item.strip()]\n",
        "print(len(preprocessed))\n",
        "preprocessed[:30]"
      ],
      "metadata": {
        "id": "VSCzHihpVI2i",
        "outputId": "05576381-f405-4685-be71-0386ff82c4c6",
        "colab": {
          "base_uri": "https://localhost:8080/"
        }
      },
      "id": "VSCzHihpVI2i",
      "execution_count": 18,
      "outputs": [
        {
          "output_type": "stream",
          "name": "stdout",
          "text": [
            "4690\n"
          ]
        },
        {
          "output_type": "execute_result",
          "data": {
            "text/plain": [
              "['I',\n",
              " 'HAD',\n",
              " 'always',\n",
              " 'thought',\n",
              " 'Jack',\n",
              " 'Gisburn',\n",
              " 'rather',\n",
              " 'a',\n",
              " 'cheap',\n",
              " 'genius',\n",
              " '--',\n",
              " 'though',\n",
              " 'a',\n",
              " 'good',\n",
              " 'fellow',\n",
              " 'enough',\n",
              " '--',\n",
              " 'so',\n",
              " 'it',\n",
              " 'was',\n",
              " 'no',\n",
              " 'great',\n",
              " 'surprise',\n",
              " 'to',\n",
              " 'me',\n",
              " 'to',\n",
              " 'hear',\n",
              " 'that',\n",
              " ',',\n",
              " 'in']"
            ]
          },
          "metadata": {},
          "execution_count": 18
        }
      ]
    },
    {
      "cell_type": "code",
      "source": [
        "# Converting tokens into token IDs"
      ],
      "metadata": {
        "id": "bo9amaiiVdMq"
      },
      "id": "bo9amaiiVdMq",
      "execution_count": null,
      "outputs": []
    }
  ],
  "metadata": {
    "language_info": {
      "name": "python"
    },
    "colab": {
      "provenance": []
    },
    "kernelspec": {
      "name": "python3",
      "display_name": "Python 3"
    }
  },
  "nbformat": 4,
  "nbformat_minor": 5
}